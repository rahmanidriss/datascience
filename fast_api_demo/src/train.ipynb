{
 "cells": [
  {
   "cell_type": "code",
   "execution_count": 68,
   "metadata": {},
   "outputs": [
    {
     "name": "stdout",
     "output_type": "stream",
     "text": [
      "my string\n"
     ]
    },
    {
     "ename": "AttributeError",
     "evalue": "'FucnClass' object has no attribute '__base__'",
     "output_type": "error",
     "traceback": [
      "\u001b[0;31m---------------------------------------------------------------------------\u001b[0m",
      "\u001b[0;31mAttributeError\u001b[0m                            Traceback (most recent call last)",
      "\u001b[0;32m/var/folders/vj/v7stj5l97kx94gggh88slgfh0000gn/T/ipykernel_95028/134581568.py\u001b[0m in \u001b[0;36m<module>\u001b[0;34m\u001b[0m\n\u001b[1;32m     15\u001b[0m \u001b[0mc\u001b[0m\u001b[0;34m.\u001b[0m\u001b[0mget_string\u001b[0m\u001b[0;34m(\u001b[0m\u001b[0;34m)\u001b[0m\u001b[0;34m\u001b[0m\u001b[0;34m\u001b[0m\u001b[0m\n\u001b[1;32m     16\u001b[0m \u001b[0;34m\u001b[0m\u001b[0m\n\u001b[0;32m---> 17\u001b[0;31m \u001b[0mprint\u001b[0m\u001b[0;34m(\u001b[0m\u001b[0mc\u001b[0m\u001b[0;34m.\u001b[0m\u001b[0m__base__\u001b[0m\u001b[0;34m)\u001b[0m\u001b[0;34m\u001b[0m\u001b[0;34m\u001b[0m\u001b[0m\n\u001b[0m",
      "\u001b[0;31mAttributeError\u001b[0m: 'FucnClass' object has no attribute '__base__'"
     ]
    }
   ],
   "source": [
    "class Tweet:\n",
    "   def __init__(self, message):\n",
    "      self.msg = message\n",
    "   def get_msg(self):\n",
    "      return self.msg\n",
    "\n",
    "\n",
    "t=Tweet(\"message de \")\n",
    "\n",
    "class FucnClass():\n",
    "   def get_string(self):\n",
    "      print(\"my string\")\n",
    "\n",
    "c=FucnClass()\n",
    "c.get_string()\n",
    "\n",
    "print(c.__base__)\n"
   ]
  },
  {
   "cell_type": "code",
   "execution_count": 86,
   "metadata": {},
   "outputs": [
    {
     "name": "stdout",
     "output_type": "stream",
     "text": [
      "<slot wrapper '__str__' of 'BaseException' objects>\n"
     ]
    }
   ],
   "source": [
    "\n",
    "\n",
    "def is_integer(value: int):\n",
    "    if isinstance(value,float):\n",
    "        raise TypeError(\"only integer exepted\")\n",
    "    \n",
    "is_integer(3)\n",
    "\n"
   ]
  }
 ],
 "metadata": {
  "kernelspec": {
   "display_name": "base",
   "language": "python",
   "name": "python3"
  },
  "language_info": {
   "codemirror_mode": {
    "name": "ipython",
    "version": 3
   },
   "file_extension": ".py",
   "mimetype": "text/x-python",
   "name": "python",
   "nbconvert_exporter": "python",
   "pygments_lexer": "ipython3",
   "version": "3.8.3"
  }
 },
 "nbformat": 4,
 "nbformat_minor": 2
}
