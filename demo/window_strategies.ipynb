{
 "cells": [
  {
   "cell_type": "code",
   "execution_count": null,
   "metadata": {},
   "outputs": [],
   "source": [
    "#https://medium.com/@tomhcorbin/window-functions-in-pyspark-a-comprehensive-guide-d2655c316c55\n",
    "from pyspark.sql import Window\n",
    "data = [(\"Apple\", \"Fruits\", 1.5),\n",
    "        (\"Banana\", \"Fruits\", 0.5),\n",
    "        (\"Carrot\", \"Vegetables\", 0.8),\n",
    "        (\"Broccoli\", \"Vegetables\", 1.2),\n",
    "        (\"Milk\", \"Dairy\", 2.5),\n",
    "        (\"Cheese\", \"Dairy\", 5.0)]\n",
    "\n",
    "columns= [\"product_name\", \"category\", \"price\"]\n",
    "df = spark.createDataFrame(data = data, schema = columns)\n",
    "windowSpec = Window.partitionBy(\"category\").orderBy(F.col(\"price\").asc())\n",
    "df.withColumn(\"avg\", F.max(\"price\").over(windowSpec)).show()"
   ]
  }
 ],
 "metadata": {
  "language_info": {
   "name": "python"
  }
 },
 "nbformat": 4,
 "nbformat_minor": 2
}
